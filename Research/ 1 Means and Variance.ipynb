{
 "cells": [
  {
   "cell_type": "markdown",
   "metadata": {
    "heading_collapsed": true
   },
   "source": [
    "# Means | Measures of Central Tendency"
   ]
  },
  {
   "cell_type": "markdown",
   "metadata": {
    "heading_collapsed": true,
    "hidden": true
   },
   "source": [
    "## Arithmetic mean"
   ]
  },
  {
   "cell_type": "code",
   "execution_count": 1,
   "metadata": {
    "hidden": true
   },
   "outputs": [
    {
     "name": "stdout",
     "output_type": "stream",
     "text": [
      "Mean of x1: 29 / 8 = 3.625\n",
      "Mean of x2: 129 / 9 = 14.333333333333334\n"
     ]
    }
   ],
   "source": [
    "import scipy.stats as stats\n",
    "import numpy as np\n",
    "\n",
    "# We'll use these two data sets as examples\n",
    "x1 = [1, 2, 2, 3, 4, 5, 5, 7]\n",
    "x2 = x1 + [100]\n",
    "\n",
    "print ('Mean of x1:', sum(x1), '/', len(x1), '=', np.mean(x1))\n",
    "print ('Mean of x2:', sum(x2), '/', len(x2), '=', np.mean(x2))"
   ]
  },
  {
   "cell_type": "markdown",
   "metadata": {
    "heading_collapsed": true,
    "hidden": true
   },
   "source": [
    "## Median"
   ]
  },
  {
   "cell_type": "code",
   "execution_count": 2,
   "metadata": {
    "hidden": true
   },
   "outputs": [
    {
     "name": "stdout",
     "output_type": "stream",
     "text": [
      "Median of x1: 3.5\n",
      "Median of x2: 4.0\n"
     ]
    }
   ],
   "source": [
    "print ('Median of x1:', np.median(x1))\n",
    "print ('Median of x2:', np.median(x2))"
   ]
  },
  {
   "cell_type": "markdown",
   "metadata": {
    "heading_collapsed": true,
    "hidden": true
   },
   "source": [
    "## Mode"
   ]
  },
  {
   "cell_type": "code",
   "execution_count": 3,
   "metadata": {
    "hidden": true
   },
   "outputs": [
    {
     "name": "stdout",
     "output_type": "stream",
     "text": [
      "One mode of x1: 2\n",
      "All of the modes of x1: [2, 5]\n"
     ]
    }
   ],
   "source": [
    "# Scipy has a built-in mode function, but it will return exactly one value\n",
    "# even if two values occur the same number of times, or if no value appears more than once\n",
    "print ('One mode of x1:', stats.mode(x1)[0][0])\n",
    "\n",
    "# So we will write our own\n",
    "def mode(l):\n",
    "    # Count the number of times each element appears in the list\n",
    "    counts = {}\n",
    "    for e in l:\n",
    "        if e in counts:\n",
    "            counts[e] += 1\n",
    "        else:\n",
    "            counts[e] = 1\n",
    "            \n",
    "    # Return the elements that appear the most times\n",
    "    maxcount = 0\n",
    "    modes = {}\n",
    "    for (key, value) in counts.items():\n",
    "        if value > maxcount:\n",
    "            maxcount = value\n",
    "            modes = {key}\n",
    "        elif value == maxcount:\n",
    "            modes.add(key)\n",
    "            \n",
    "    if maxcount > 1 or len(l) == 1:\n",
    "        return list(modes)\n",
    "    return 'No mode'\n",
    "    \n",
    "print ('All of the modes of x1:', mode(x1))"
   ]
  },
  {
   "cell_type": "markdown",
   "metadata": {
    "hidden": true
   },
   "source": [
    "For data that can take on many different values, such as returns data, there may not be any values that appear more than once. In this case we can bin values, like we do when constructing a histogram, and then find the mode of the data set where each value is replaced with the name of its bin. That is, we find which bin elements fall into most often."
   ]
  },
  {
   "cell_type": "code",
   "execution_count": 6,
   "metadata": {
    "hidden": true
   },
   "outputs": [],
   "source": [
    "from nsepy import get_history\n",
    "from datetime import date, datetime, timedelta\n",
    "import pandas as pd"
   ]
  },
  {
   "cell_type": "code",
   "execution_count": 7,
   "metadata": {
    "hidden": true
   },
   "outputs": [
    {
     "name": "stdout",
     "output_type": "stream",
     "text": [
      "<class 'pandas.core.frame.DataFrame'>\n",
      "DatetimeIndex: 2280 entries, 2010-01-04 to 2019-03-01\n",
      "Data columns (total 14 columns):\n",
      "Symbol                2280 non-null object\n",
      "Series                2280 non-null object\n",
      "Prev Close            2280 non-null float64\n",
      "Open                  2280 non-null float64\n",
      "High                  2280 non-null float64\n",
      "Low                   2280 non-null float64\n",
      "Last                  2280 non-null float64\n",
      "Close                 2280 non-null float64\n",
      "VWAP                  2280 non-null float64\n",
      "Volume                2280 non-null int64\n",
      "Turnover              2280 non-null float64\n",
      "Trades                1925 non-null float64\n",
      "Deliverable Volume    2280 non-null int64\n",
      "%Deliverble           2280 non-null float64\n",
      "dtypes: float64(10), int64(2), object(2)\n",
      "memory usage: 267.2+ KB\n"
     ]
    },
    {
     "data": {
      "text/plain": [
       "None"
      ]
     },
     "metadata": {},
     "output_type": "display_data"
    },
    {
     "data": {
      "text/html": [
       "<div>\n",
       "<style scoped>\n",
       "    .dataframe tbody tr th:only-of-type {\n",
       "        vertical-align: middle;\n",
       "    }\n",
       "\n",
       "    .dataframe tbody tr th {\n",
       "        vertical-align: top;\n",
       "    }\n",
       "\n",
       "    .dataframe thead th {\n",
       "        text-align: right;\n",
       "    }\n",
       "</style>\n",
       "<table border=\"1\" class=\"dataframe\">\n",
       "  <thead>\n",
       "    <tr style=\"text-align: right;\">\n",
       "      <th></th>\n",
       "      <th>Symbol</th>\n",
       "      <th>Series</th>\n",
       "      <th>Prev Close</th>\n",
       "      <th>Open</th>\n",
       "      <th>High</th>\n",
       "      <th>Low</th>\n",
       "      <th>Last</th>\n",
       "      <th>Close</th>\n",
       "      <th>VWAP</th>\n",
       "      <th>Volume</th>\n",
       "      <th>Turnover</th>\n",
       "      <th>Trades</th>\n",
       "      <th>Deliverable Volume</th>\n",
       "      <th>%Deliverble</th>\n",
       "    </tr>\n",
       "    <tr>\n",
       "      <th>Date</th>\n",
       "      <th></th>\n",
       "      <th></th>\n",
       "      <th></th>\n",
       "      <th></th>\n",
       "      <th></th>\n",
       "      <th></th>\n",
       "      <th></th>\n",
       "      <th></th>\n",
       "      <th></th>\n",
       "      <th></th>\n",
       "      <th></th>\n",
       "      <th></th>\n",
       "      <th></th>\n",
       "      <th></th>\n",
       "    </tr>\n",
       "  </thead>\n",
       "  <tbody>\n",
       "    <tr>\n",
       "      <th>2019-02-25</th>\n",
       "      <td>TCS</td>\n",
       "      <td>EQ</td>\n",
       "      <td>1925.65</td>\n",
       "      <td>1932.50</td>\n",
       "      <td>1990.00</td>\n",
       "      <td>1930.50</td>\n",
       "      <td>1987.0</td>\n",
       "      <td>1985.15</td>\n",
       "      <td>1961.61</td>\n",
       "      <td>2934880</td>\n",
       "      <td>5.757095e+14</td>\n",
       "      <td>140541.0</td>\n",
       "      <td>1341508</td>\n",
       "      <td>0.4571</td>\n",
       "    </tr>\n",
       "    <tr>\n",
       "      <th>2019-02-26</th>\n",
       "      <td>TCS</td>\n",
       "      <td>EQ</td>\n",
       "      <td>1985.15</td>\n",
       "      <td>1984.00</td>\n",
       "      <td>2045.15</td>\n",
       "      <td>1972.25</td>\n",
       "      <td>2032.5</td>\n",
       "      <td>2038.70</td>\n",
       "      <td>2022.12</td>\n",
       "      <td>6453309</td>\n",
       "      <td>1.304935e+15</td>\n",
       "      <td>177907.0</td>\n",
       "      <td>3366710</td>\n",
       "      <td>0.5217</td>\n",
       "    </tr>\n",
       "    <tr>\n",
       "      <th>2019-02-27</th>\n",
       "      <td>TCS</td>\n",
       "      <td>EQ</td>\n",
       "      <td>2038.70</td>\n",
       "      <td>2040.00</td>\n",
       "      <td>2074.95</td>\n",
       "      <td>2022.00</td>\n",
       "      <td>2052.5</td>\n",
       "      <td>2058.10</td>\n",
       "      <td>2050.25</td>\n",
       "      <td>4732082</td>\n",
       "      <td>9.701947e+14</td>\n",
       "      <td>168823.0</td>\n",
       "      <td>2532055</td>\n",
       "      <td>0.5351</td>\n",
       "    </tr>\n",
       "    <tr>\n",
       "      <th>2019-02-28</th>\n",
       "      <td>TCS</td>\n",
       "      <td>EQ</td>\n",
       "      <td>2058.10</td>\n",
       "      <td>2060.00</td>\n",
       "      <td>2071.35</td>\n",
       "      <td>1977.60</td>\n",
       "      <td>1983.5</td>\n",
       "      <td>1983.45</td>\n",
       "      <td>2009.42</td>\n",
       "      <td>8454295</td>\n",
       "      <td>1.698821e+15</td>\n",
       "      <td>284872.0</td>\n",
       "      <td>3927877</td>\n",
       "      <td>0.4646</td>\n",
       "    </tr>\n",
       "    <tr>\n",
       "      <th>2019-03-01</th>\n",
       "      <td>TCS</td>\n",
       "      <td>EQ</td>\n",
       "      <td>1983.45</td>\n",
       "      <td>1995.05</td>\n",
       "      <td>2005.00</td>\n",
       "      <td>1980.35</td>\n",
       "      <td>1995.0</td>\n",
       "      <td>1995.40</td>\n",
       "      <td>1993.73</td>\n",
       "      <td>4148548</td>\n",
       "      <td>8.271064e+14</td>\n",
       "      <td>128204.0</td>\n",
       "      <td>2071633</td>\n",
       "      <td>0.4994</td>\n",
       "    </tr>\n",
       "  </tbody>\n",
       "</table>\n",
       "</div>"
      ],
      "text/plain": [
       "           Symbol Series  Prev Close     Open     High      Low    Last  \\\n",
       "Date                                                                      \n",
       "2019-02-25    TCS     EQ     1925.65  1932.50  1990.00  1930.50  1987.0   \n",
       "2019-02-26    TCS     EQ     1985.15  1984.00  2045.15  1972.25  2032.5   \n",
       "2019-02-27    TCS     EQ     2038.70  2040.00  2074.95  2022.00  2052.5   \n",
       "2019-02-28    TCS     EQ     2058.10  2060.00  2071.35  1977.60  1983.5   \n",
       "2019-03-01    TCS     EQ     1983.45  1995.05  2005.00  1980.35  1995.0   \n",
       "\n",
       "              Close     VWAP   Volume      Turnover    Trades  \\\n",
       "Date                                                            \n",
       "2019-02-25  1985.15  1961.61  2934880  5.757095e+14  140541.0   \n",
       "2019-02-26  2038.70  2022.12  6453309  1.304935e+15  177907.0   \n",
       "2019-02-27  2058.10  2050.25  4732082  9.701947e+14  168823.0   \n",
       "2019-02-28  1983.45  2009.42  8454295  1.698821e+15  284872.0   \n",
       "2019-03-01  1995.40  1993.73  4148548  8.271064e+14  128204.0   \n",
       "\n",
       "            Deliverable Volume  %Deliverble  \n",
       "Date                                         \n",
       "2019-02-25             1341508       0.4571  \n",
       "2019-02-26             3366710       0.5217  \n",
       "2019-02-27             2532055       0.5351  \n",
       "2019-02-28             3927877       0.4646  \n",
       "2019-03-01             2071633       0.4994  "
      ]
     },
     "metadata": {},
     "output_type": "display_data"
    }
   ],
   "source": [
    "start = date(2010,1,1)\n",
    "end = date.today()\n",
    "\n",
    "data = get_history(symbol=\"TCS\", start=start, end=end)\n",
    "\n",
    "data = data.reset_index()\n",
    "data['Date'] = pd.to_datetime(data['Date'])\n",
    "data.set_index('Date', inplace=True)\n",
    "\n",
    "display(data.info())\n",
    "display(data.tail())"
   ]
  },
  {
   "cell_type": "code",
   "execution_count": 9,
   "metadata": {
    "hidden": true
   },
   "outputs": [
    {
     "data": {
      "text/html": [
       "<div>\n",
       "<style scoped>\n",
       "    .dataframe tbody tr th:only-of-type {\n",
       "        vertical-align: middle;\n",
       "    }\n",
       "\n",
       "    .dataframe tbody tr th {\n",
       "        vertical-align: top;\n",
       "    }\n",
       "\n",
       "    .dataframe thead th {\n",
       "        text-align: right;\n",
       "    }\n",
       "</style>\n",
       "<table border=\"1\" class=\"dataframe\">\n",
       "  <thead>\n",
       "    <tr style=\"text-align: right;\">\n",
       "      <th></th>\n",
       "      <th>Close</th>\n",
       "    </tr>\n",
       "    <tr>\n",
       "      <th>Date</th>\n",
       "      <th></th>\n",
       "    </tr>\n",
       "  </thead>\n",
       "  <tbody>\n",
       "    <tr>\n",
       "      <th>2019-02-25</th>\n",
       "      <td>1985.15</td>\n",
       "    </tr>\n",
       "    <tr>\n",
       "      <th>2019-02-26</th>\n",
       "      <td>2038.70</td>\n",
       "    </tr>\n",
       "    <tr>\n",
       "      <th>2019-02-27</th>\n",
       "      <td>2058.10</td>\n",
       "    </tr>\n",
       "    <tr>\n",
       "      <th>2019-02-28</th>\n",
       "      <td>1983.45</td>\n",
       "    </tr>\n",
       "    <tr>\n",
       "      <th>2019-03-01</th>\n",
       "      <td>1995.40</td>\n",
       "    </tr>\n",
       "  </tbody>\n",
       "</table>\n",
       "</div>"
      ],
      "text/plain": [
       "              Close\n",
       "Date               \n",
       "2019-02-25  1985.15\n",
       "2019-02-26  2038.70\n",
       "2019-02-27  2058.10\n",
       "2019-02-28  1983.45\n",
       "2019-03-01  1995.40"
      ]
     },
     "execution_count": 9,
     "metadata": {},
     "output_type": "execute_result"
    }
   ],
   "source": [
    "pricing = pd.DataFrame(data['Close'].copy())\n",
    "pricing.tail()"
   ]
  },
  {
   "cell_type": "code",
   "execution_count": 11,
   "metadata": {
    "hidden": true
   },
   "outputs": [
    {
     "name": "stdout",
     "output_type": "stream",
     "text": [
      "Mode of returns: No mode\n"
     ]
    }
   ],
   "source": [
    "# Get return data for an asset and compute the mode of the data set\n",
    "returns = pricing.pct_change()[1:]\n",
    "print ('Mode of returns:', mode(returns))"
   ]
  },
  {
   "cell_type": "code",
   "execution_count": 12,
   "metadata": {
    "hidden": true
   },
   "outputs": [
    {
     "name": "stdout",
     "output_type": "stream",
     "text": [
      "Mode of bins: [(-0.0032268023346224695, 0.028106090403132278)]\n"
     ]
    }
   ],
   "source": [
    "# Since all of the returns are distinct, we use a frequency distribution to get an alternative mode.\n",
    "# np.histogram returns the frequency distribution over the bins as well as the endpoints of the bins\n",
    "hist, bins = np.histogram(returns, 20) # Break data up into 20 bins\n",
    "maxfreq = max(hist)\n",
    "# Find all of the bins that are hit with frequency maxfreq, then print the intervals corresponding to them\n",
    "print ('Mode of bins:', [(bins[i], bins[i+1]) for i, j in enumerate(hist) if j == maxfreq])"
   ]
  },
  {
   "cell_type": "markdown",
   "metadata": {
    "heading_collapsed": true,
    "hidden": true
   },
   "source": [
    "## Geometric mean"
   ]
  },
  {
   "cell_type": "code",
   "execution_count": 14,
   "metadata": {
    "hidden": true
   },
   "outputs": [
    {
     "name": "stdout",
     "output_type": "stream",
     "text": [
      "Geometric mean of x1: 3.0941040249774403\n",
      "Geometric mean of x2: 4.552534587620071\n"
     ]
    }
   ],
   "source": [
    "# Use scipy's gmean function to compute the geometric mean\n",
    "print('Geometric mean of x1:', stats.gmean(x1))\n",
    "print('Geometric mean of x2:', stats.gmean(x2))"
   ]
  },
  {
   "cell_type": "code",
   "execution_count": 21,
   "metadata": {
    "hidden": true
   },
   "outputs": [
    {
     "name": "stdout",
     "output_type": "stream",
     "text": [
      "Geometric mean of returns: [0.00042849]\n"
     ]
    }
   ],
   "source": [
    "# Add 1 to every value in the returns array and then compute R_G\n",
    "ratios = returns + 1\n",
    "R_G = stats.gmean(ratios) - 1\n",
    "print('Geometric mean of returns:', R_G)"
   ]
  },
  {
   "cell_type": "markdown",
   "metadata": {
    "hidden": true
   },
   "source": [
    "The geometric mean is defined so that if the rate of return over the whole time period were constant and equal to  $R_G$ , the final price of the security would be the same as in the case of returns  $R_1,…,R_T$ ."
   ]
  },
  {
   "cell_type": "code",
   "execution_count": 30,
   "metadata": {
    "hidden": true
   },
   "outputs": [
    {
     "name": "stdout",
     "output_type": "stream",
     "text": [
      "Initial price: 751.65\n",
      "Final price: 1995.4\n",
      "Final price as computed with R_G: [1995.4]\n"
     ]
    }
   ],
   "source": [
    "T = len(returns)\n",
    "init_price = pricing['Close'][0]\n",
    "final_price = pricing['Close'][T]\n",
    "print('Initial price:', init_price)\n",
    "print('Final price:', final_price)\n",
    "print('Final price as computed with R_G:', init_price*(1 + R_G)**T)"
   ]
  },
  {
   "cell_type": "markdown",
   "metadata": {
    "heading_collapsed": true,
    "hidden": true
   },
   "source": [
    "## Harmonic Mean"
   ]
  },
  {
   "cell_type": "code",
   "execution_count": 31,
   "metadata": {
    "hidden": true
   },
   "outputs": [
    {
     "name": "stdout",
     "output_type": "stream",
     "text": [
      "Harmonic mean of x1: 2.5590251332825593\n",
      "Harmonic mean of x2: 2.869723656240511\n"
     ]
    }
   ],
   "source": [
    "print('Harmonic mean of x1:', stats.hmean(x1))\n",
    "print('Harmonic mean of x2:', stats.hmean(x2))"
   ]
  },
  {
   "cell_type": "markdown",
   "metadata": {
    "hidden": true
   },
   "source": [
    "The harmonic mean can be used when the data can be naturally phrased in terms of ratios. For instance, in the dollar-cost averaging strategy, a fixed amount is spent on shares of a stock at regular intervals. The higher the price of the stock, then, the fewer shares an investor following this strategy buys. The average (arithmetic mean) amount they pay for the stock is the harmonic mean of the prices."
   ]
  },
  {
   "cell_type": "markdown",
   "metadata": {
    "heading_collapsed": true
   },
   "source": [
    "# Variance | Measures of Dispersion"
   ]
  },
  {
   "cell_type": "code",
   "execution_count": 32,
   "metadata": {
    "hidden": true
   },
   "outputs": [],
   "source": [
    "# Import libraries\n",
    "import numpy as np\n",
    "\n",
    "np.random.seed(42)"
   ]
  },
  {
   "cell_type": "code",
   "execution_count": 33,
   "metadata": {
    "hidden": true
   },
   "outputs": [
    {
     "name": "stdout",
     "output_type": "stream",
     "text": [
      "X: [ 1  2 14 20 21 23 29 37 51 52 60 71 74 74 82 86 87 87 92 99]\n",
      "Mean of X: 53.1\n"
     ]
    }
   ],
   "source": [
    "# Generate 20 random integers < 100\n",
    "X = np.random.randint(100, size=20)\n",
    "\n",
    "# Sort them\n",
    "X = np.sort(X)\n",
    "print ('X: %s' %(X))\n",
    "\n",
    "mu = np.mean(X)\n",
    "print ('Mean of X:', mu)"
   ]
  },
  {
   "cell_type": "markdown",
   "metadata": {
    "heading_collapsed": true,
    "hidden": true
   },
   "source": [
    "## Range\n",
    "\n",
    "Difference between the maximum and minimum values"
   ]
  },
  {
   "cell_type": "code",
   "execution_count": 34,
   "metadata": {
    "hidden": true
   },
   "outputs": [
    {
     "name": "stdout",
     "output_type": "stream",
     "text": [
      "Range of X: 98\n"
     ]
    }
   ],
   "source": [
    "print('Range of X: %s' %(np.ptp(X)))"
   ]
  },
  {
   "cell_type": "markdown",
   "metadata": {
    "heading_collapsed": true,
    "hidden": true
   },
   "source": [
    "## Mean Absolute Deviation (MAD)"
   ]
  },
  {
   "cell_type": "code",
   "execution_count": 35,
   "metadata": {
    "hidden": true
   },
   "outputs": [
    {
     "name": "stdout",
     "output_type": "stream",
     "text": [
      "Mean absolute deviation of X: 28.099999999999994\n"
     ]
    }
   ],
   "source": [
    "abs_dispersion = [np.abs(mu - x) for x in X]\n",
    "MAD = np.sum(abs_dispersion)/len(abs_dispersion)\n",
    "print('Mean absolute deviation of X:', MAD)"
   ]
  },
  {
   "cell_type": "markdown",
   "metadata": {
    "heading_collapsed": true,
    "hidden": true
   },
   "source": [
    "## Variance and standard deviation"
   ]
  },
  {
   "cell_type": "code",
   "execution_count": 36,
   "metadata": {
    "hidden": true
   },
   "outputs": [
    {
     "name": "stdout",
     "output_type": "stream",
     "text": [
      "Variance of X: 990.49\n",
      "Standard deviation of X: 31.472051092993606\n"
     ]
    }
   ],
   "source": [
    "print('Variance of X:', np.var(X))\n",
    "print('Standard deviation of X:', np.std(X))"
   ]
  },
  {
   "cell_type": "markdown",
   "metadata": {
    "hidden": true
   },
   "source": [
    "One way to interpret standard deviation is by referring to **Chebyshev's inequality**. This tells us that the proportion of samples within  $k$  standard deviations (that is, within a distance of  $k$⋅  standard deviation) of the mean is at least  $1−1/k^2$  for all  $k>1$ .\n",
    "\n",
    "Let's check that this is true for our data set."
   ]
  },
  {
   "cell_type": "code",
   "execution_count": 37,
   "metadata": {
    "hidden": true
   },
   "outputs": [
    {
     "name": "stdout",
     "output_type": "stream",
     "text": [
      "Observations within 1.25 stds of mean: [14, 20, 21, 23, 29, 37, 51, 52, 60, 71, 74, 74, 82, 86, 87, 87, 92]\n",
      "Confirming that 0.85 > 0.36\n"
     ]
    }
   ],
   "source": [
    "k = 1.25\n",
    "dist = k*np.std(X)\n",
    "l = [x for x in X if abs(x - mu) <= dist]\n",
    "print('Observations within', k, 'stds of mean:', l)\n",
    "print('Confirming that', float(len(l))/len(X), '>', 1 - 1/k**2)"
   ]
  },
  {
   "cell_type": "markdown",
   "metadata": {
    "heading_collapsed": true,
    "hidden": true
   },
   "source": [
    "## Semivariance and semideviation\n",
    "\n",
    "only count the observations that fall below the mean"
   ]
  },
  {
   "cell_type": "code",
   "execution_count": 38,
   "metadata": {
    "hidden": true
   },
   "outputs": [
    {
     "name": "stdout",
     "output_type": "stream",
     "text": [
      "Semivariance of X: 1073.21\n",
      "Semideviation of X: 32.759884004678646\n"
     ]
    }
   ],
   "source": [
    "# Because there is no built-in semideviation, we'll compute it ourselves\n",
    "lows = [e for e in X if e <= mu]\n",
    "\n",
    "semivar = np.sum( (lows - mu) ** 2 ) / len(lows)\n",
    "\n",
    "print ('Semivariance of X:', semivar)\n",
    "print ('Semideviation of X:', np.sqrt(semivar))"
   ]
  },
  {
   "cell_type": "markdown",
   "metadata": {
    "hidden": true
   },
   "source": [
    "A related notion is target semivariance (and target semideviation), where we average the distance from a target of values which fall below that target:"
   ]
  },
  {
   "cell_type": "code",
   "execution_count": 39,
   "metadata": {
    "hidden": true,
    "scrolled": true
   },
   "outputs": [
    {
     "name": "stdout",
     "output_type": "stream",
     "text": [
      "Target semivariance of X: 212.66666666666666\n",
      "Target semideviation of X: 14.583095236151571\n"
     ]
    }
   ],
   "source": [
    "B = 19\n",
    "lows_B = [e for e in X if e <= B]\n",
    "semivar_B = sum(map(lambda x: (x - B)**2,lows_B))/len(lows_B)\n",
    "\n",
    "print('Target semivariance of X:', semivar_B)\n",
    "print('Target semideviation of X:', np.sqrt(semivar_B))"
   ]
  },
  {
   "cell_type": "code",
   "execution_count": null,
   "metadata": {
    "hidden": true
   },
   "outputs": [],
   "source": []
  }
 ],
 "metadata": {
  "kernelspec": {
   "display_name": "Python 3",
   "language": "python",
   "name": "python3"
  },
  "language_info": {
   "codemirror_mode": {
    "name": "ipython",
    "version": 3
   },
   "file_extension": ".py",
   "mimetype": "text/x-python",
   "name": "python",
   "nbconvert_exporter": "python",
   "pygments_lexer": "ipython3",
   "version": "3.6.8"
  }
 },
 "nbformat": 4,
 "nbformat_minor": 2
}
